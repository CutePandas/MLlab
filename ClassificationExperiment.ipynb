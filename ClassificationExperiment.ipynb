{
 "cells": [
  {
   "cell_type": "code",
   "execution_count": 5,
   "metadata": {},
   "outputs": [
    {
     "data": {
      "image/png": "[encoded data removed]",
      "text/plain": [
       "<matplotlib.figure.Figure at 0x13be86c57f0>"
      ]
     },
     "metadata": {},
     "output_type": "display_data"
    }
   ],
   "source": [
    "import numpy as np\n",
    "from sklearn.datasets import load_svmlight_file\n",
    "from sklearn.model_selection import train_test_split\n",
    "import matplotlib.pyplot as plt\n",
    "\n",
    "\n",
    "# define objective function\n",
    "def objective_fun(x):\n",
    "    return np.dot(x, theta[:14].reshape(14, 1))[0][0]+b\n",
    "def classify_fun(x):\n",
    "\n",
    "    if objective_fun(x)>=0:\n",
    "        return 1\n",
    "    else:\n",
    "        return -1\n",
    "\n",
    "\n",
    "# define loss function\n",
    "def loss_fun(given_x, given_y):\n",
    "    loss = 0\n",
    "    for curr_x, curr_y in zip(given_x, given_y):\n",
    "        curr_x = curr_x.toarray()\n",
    "        loss += max(0,1-curr_y*objective_fun(curr_x))\n",
    "\n",
    "    return loss\n",
    "\n",
    "\n",
    "# load data set\n",
    "X, y = load_svmlight_file(\"F:/trainingdata/australian_scale.txt\")\n",
    "\n",
    "# split data set\n",
    "X_train, X_test, y_train, y_test = train_test_split(X, y, test_size=0.33, random_state=42)\n",
    "\n",
    "theta = np.zeros(14)\n",
    "b=0\n",
    "C=0.5\n",
    "learning_rate = 0.0001\n",
    "iteration_num = 200\n",
    "train_losses = []\n",
    "test_losses = []\n",
    "accuracy=[]\n",
    "for i in range(iteration_num):\n",
    "\n",
    "    Gradient_theta = np.zeros(14).reshape(1, 14)\n",
    "    Gradient_b = 0\n",
    "    for curr_x, curr_y in zip(X_train, y_train):\n",
    "         curr_x = curr_x.toarray()\n",
    "         # calculate gradient\n",
    "\n",
    "         if (1-curr_y*objective_fun(curr_x))>=0 :\n",
    "            Gradient_theta+=C*(-curr_y*curr_x)\n",
    "            Gradient_b+=(-curr_y)\n",
    "    Gradient_theta+=theta\n",
    "    theta = theta - learning_rate * Gradient_theta\n",
    "    b = b - learning_rate * Gradient_b\n",
    "    train_losses.append((loss_fun(X_train, y_train) / y_train.size))\n",
    "    test_losses.append(loss_fun(X_test, y_test) / y_test.size)\n",
    "    acc=0\n",
    "    #compute accurrcy\n",
    "    for curr_x, curr_y in zip(X_test, y_test):\n",
    "        curr_x=curr_x.toarray()\n",
    "        if classify_fun(curr_x)==curr_y:\n",
    "            acc+=1\n",
    "    accuracy.append(acc/y_test.size)\n",
    "plt.plot(train_losses,'b',test_losses,'r',accuracy,'g')\n",
    "#蓝色为train_loss，红色为test_loss\n",
    "plt.xlabel('iterations')\n",
    "plt.ylabel('loss & accuracy')\n",
    "plt.show()"
   ]
  }
 ],
 "metadata": {
  "kernelspec": {
   "display_name": "Python 3",
   "language": "python",
   "name": "python3"
  },
  "language_info": {
   "codemirror_mode": {
    "name": "ipython",
    "version": 3
   },
   "file_extension": ".py",
   "mimetype": "text/x-python",
   "name": "python",
   "nbconvert_exporter": "python",
   "pygments_lexer": "ipython3",
   "version": "3.6.3"
  }
 },
 "nbformat": 4,
 "nbformat_minor": 2
}
